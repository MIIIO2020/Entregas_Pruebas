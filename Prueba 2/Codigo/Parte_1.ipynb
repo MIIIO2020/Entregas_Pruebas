{
 "cells": [
  {
   "cell_type": "markdown",
   "metadata": {},
   "source": [
    "# Se carga la data"
   ]
  },
  {
   "cell_type": "code",
   "execution_count": 1,
   "metadata": {},
   "outputs": [],
   "source": [
    "import numpy as np\n",
    "import pandas as pd\n",
    "import matplotlib.pyplot as plt\n",
    "from plotnine import *"
   ]
  },
  {
   "cell_type": "code",
   "execution_count": 2,
   "metadata": {},
   "outputs": [
    {
     "name": "stdout",
     "output_type": "stream",
     "text": [
      "(5489, 91)\n"
     ]
    },
    {
     "data": {
      "text/html": [
       "<div>\n",
       "<style scoped>\n",
       "    .dataframe tbody tr th:only-of-type {\n",
       "        vertical-align: middle;\n",
       "    }\n",
       "\n",
       "    .dataframe tbody tr th {\n",
       "        vertical-align: top;\n",
       "    }\n",
       "\n",
       "    .dataframe thead th {\n",
       "        text-align: right;\n",
       "    }\n",
       "</style>\n",
       "<table border=\"1\" class=\"dataframe\">\n",
       "  <thead>\n",
       "    <tr style=\"text-align: right;\">\n",
       "      <th></th>\n",
       "      <th>date</th>\n",
       "      <th>serial_number</th>\n",
       "      <th>model</th>\n",
       "      <th>capacity_bytes</th>\n",
       "      <th>failure</th>\n",
       "      <th>smart_1_normalized</th>\n",
       "      <th>smart_1_raw</th>\n",
       "      <th>smart_2_normalized</th>\n",
       "      <th>smart_2_raw</th>\n",
       "      <th>smart_3_normalized</th>\n",
       "      <th>...</th>\n",
       "      <th>smart_242_normalized</th>\n",
       "      <th>smart_242_raw</th>\n",
       "      <th>smart_250_normalized</th>\n",
       "      <th>smart_250_raw</th>\n",
       "      <th>smart_251_normalized</th>\n",
       "      <th>smart_251_raw</th>\n",
       "      <th>smart_252_normalized</th>\n",
       "      <th>smart_252_raw</th>\n",
       "      <th>smart_254_normalized</th>\n",
       "      <th>smart_254_raw</th>\n",
       "    </tr>\n",
       "  </thead>\n",
       "  <tbody>\n",
       "    <tr>\n",
       "      <th>0</th>\n",
       "      <td>2016-01-01</td>\n",
       "      <td>Z300ZST1</td>\n",
       "      <td>ST4000DM000</td>\n",
       "      <td>1.976651e-311</td>\n",
       "      <td>0</td>\n",
       "      <td>120</td>\n",
       "      <td>240872800</td>\n",
       "      <td>NaN</td>\n",
       "      <td>NaN</td>\n",
       "      <td>91</td>\n",
       "      <td>...</td>\n",
       "      <td>100.0</td>\n",
       "      <td>9.784107e-313</td>\n",
       "      <td>NaN</td>\n",
       "      <td>NaN</td>\n",
       "      <td>NaN</td>\n",
       "      <td>NaN</td>\n",
       "      <td>NaN</td>\n",
       "      <td>NaN</td>\n",
       "      <td>NaN</td>\n",
       "      <td>NaN</td>\n",
       "    </tr>\n",
       "    <tr>\n",
       "      <th>1</th>\n",
       "      <td>2016-01-01</td>\n",
       "      <td>9VY8TCAV</td>\n",
       "      <td>ST3160318AS</td>\n",
       "      <td>7.907120e-313</td>\n",
       "      <td>0</td>\n",
       "      <td>111</td>\n",
       "      <td>38605541</td>\n",
       "      <td>NaN</td>\n",
       "      <td>NaN</td>\n",
       "      <td>97</td>\n",
       "      <td>...</td>\n",
       "      <td>100.0</td>\n",
       "      <td>2.076417e-314</td>\n",
       "      <td>NaN</td>\n",
       "      <td>NaN</td>\n",
       "      <td>NaN</td>\n",
       "      <td>NaN</td>\n",
       "      <td>NaN</td>\n",
       "      <td>NaN</td>\n",
       "      <td>NaN</td>\n",
       "      <td>NaN</td>\n",
       "    </tr>\n",
       "    <tr>\n",
       "      <th>2</th>\n",
       "      <td>2016-01-01</td>\n",
       "      <td>W300BG0H</td>\n",
       "      <td>ST4000DM000</td>\n",
       "      <td>1.976651e-311</td>\n",
       "      <td>0</td>\n",
       "      <td>118</td>\n",
       "      <td>190147064</td>\n",
       "      <td>NaN</td>\n",
       "      <td>NaN</td>\n",
       "      <td>91</td>\n",
       "      <td>...</td>\n",
       "      <td>100.0</td>\n",
       "      <td>6.394443e-313</td>\n",
       "      <td>NaN</td>\n",
       "      <td>NaN</td>\n",
       "      <td>NaN</td>\n",
       "      <td>NaN</td>\n",
       "      <td>NaN</td>\n",
       "      <td>NaN</td>\n",
       "      <td>NaN</td>\n",
       "      <td>NaN</td>\n",
       "    </tr>\n",
       "    <tr>\n",
       "      <th>3</th>\n",
       "      <td>2016-01-01</td>\n",
       "      <td>W300J6FX</td>\n",
       "      <td>ST4000DM000</td>\n",
       "      <td>1.976651e-311</td>\n",
       "      <td>0</td>\n",
       "      <td>115</td>\n",
       "      <td>85258376</td>\n",
       "      <td>NaN</td>\n",
       "      <td>NaN</td>\n",
       "      <td>92</td>\n",
       "      <td>...</td>\n",
       "      <td>100.0</td>\n",
       "      <td>6.040397e-313</td>\n",
       "      <td>NaN</td>\n",
       "      <td>NaN</td>\n",
       "      <td>NaN</td>\n",
       "      <td>NaN</td>\n",
       "      <td>NaN</td>\n",
       "      <td>NaN</td>\n",
       "      <td>NaN</td>\n",
       "      <td>NaN</td>\n",
       "    </tr>\n",
       "    <tr>\n",
       "      <th>4</th>\n",
       "      <td>2016-01-01</td>\n",
       "      <td>Z3014A4S</td>\n",
       "      <td>ST4000DM000</td>\n",
       "      <td>1.976651e-311</td>\n",
       "      <td>0</td>\n",
       "      <td>116</td>\n",
       "      <td>101976792</td>\n",
       "      <td>NaN</td>\n",
       "      <td>NaN</td>\n",
       "      <td>91</td>\n",
       "      <td>...</td>\n",
       "      <td>100.0</td>\n",
       "      <td>1.019657e-312</td>\n",
       "      <td>NaN</td>\n",
       "      <td>NaN</td>\n",
       "      <td>NaN</td>\n",
       "      <td>NaN</td>\n",
       "      <td>NaN</td>\n",
       "      <td>NaN</td>\n",
       "      <td>NaN</td>\n",
       "      <td>NaN</td>\n",
       "    </tr>\n",
       "  </tbody>\n",
       "</table>\n",
       "<p>5 rows × 91 columns</p>\n",
       "</div>"
      ],
      "text/plain": [
       "         date serial_number        model  capacity_bytes  failure  \\\n",
       "0  2016-01-01      Z300ZST1  ST4000DM000   1.976651e-311        0   \n",
       "1  2016-01-01      9VY8TCAV  ST3160318AS   7.907120e-313        0   \n",
       "2  2016-01-01      W300BG0H  ST4000DM000   1.976651e-311        0   \n",
       "3  2016-01-01      W300J6FX  ST4000DM000   1.976651e-311        0   \n",
       "4  2016-01-01      Z3014A4S  ST4000DM000   1.976651e-311        0   \n",
       "\n",
       "   smart_1_normalized  smart_1_raw  smart_2_normalized  smart_2_raw  \\\n",
       "0                 120    240872800                 NaN          NaN   \n",
       "1                 111     38605541                 NaN          NaN   \n",
       "2                 118    190147064                 NaN          NaN   \n",
       "3                 115     85258376                 NaN          NaN   \n",
       "4                 116    101976792                 NaN          NaN   \n",
       "\n",
       "   smart_3_normalized  ...  smart_242_normalized  smart_242_raw  \\\n",
       "0                  91  ...                 100.0  9.784107e-313   \n",
       "1                  97  ...                 100.0  2.076417e-314   \n",
       "2                  91  ...                 100.0  6.394443e-313   \n",
       "3                  92  ...                 100.0  6.040397e-313   \n",
       "4                  91  ...                 100.0  1.019657e-312   \n",
       "\n",
       "   smart_250_normalized  smart_250_raw  smart_251_normalized  smart_251_raw  \\\n",
       "0                   NaN            NaN                   NaN            NaN   \n",
       "1                   NaN            NaN                   NaN            NaN   \n",
       "2                   NaN            NaN                   NaN            NaN   \n",
       "3                   NaN            NaN                   NaN            NaN   \n",
       "4                   NaN            NaN                   NaN            NaN   \n",
       "\n",
       "   smart_252_normalized  smart_252_raw  smart_254_normalized  smart_254_raw  \n",
       "0                   NaN            NaN                   NaN            NaN  \n",
       "1                   NaN            NaN                   NaN            NaN  \n",
       "2                   NaN            NaN                   NaN            NaN  \n",
       "3                   NaN            NaN                   NaN            NaN  \n",
       "4                   NaN            NaN                   NaN            NaN  \n",
       "\n",
       "[5 rows x 91 columns]"
      ]
     },
     "execution_count": 2,
     "metadata": {},
     "output_type": "execute_result"
    }
   ],
   "source": [
    "df1 = pd.read_csv('data/data_fail.csv')\n",
    "df=df1.copy(deep=True)\n",
    "print(df.shape)\n",
    "df.head()"
   ]
  },
  {
   "cell_type": "code",
   "execution_count": 3,
   "metadata": {},
   "outputs": [],
   "source": [
    "columnas=df.columns\n",
    "columnas_raw=[]\n",
    "for i in columnas:\n",
    "    l=len(i)\n",
    "    if i[l-3:]== 'raw':\n",
    "        columnas_raw.append(i)\n",
    "columnas_raw.append('smart_9_normalized')\n",
    "# no eliminamos la columna smart_9_raw,\n",
    "# ya que esta indica el tiempo de vida del disco\n",
    "columnas_raw.remove('smart_9_raw')\n",
    "df=df.rename(columns={'smart_9_raw':'time_day'})\n",
    "df['time_day']=df['time_day']/24\n",
    "df = df.drop(columns=columnas_raw, axis=1)\n"
   ]
  },
  {
   "cell_type": "markdown",
   "metadata": {},
   "source": [
    "# Registros que fallaron"
   ]
  },
  {
   "cell_type": "code",
   "execution_count": 4,
   "metadata": {
    "scrolled": true
   },
   "outputs": [
    {
     "data": {
      "text/plain": [
       "count          214\n",
       "unique         205\n",
       "top       W3006E5B\n",
       "freq             2\n",
       "Name: serial_number, dtype: object"
      ]
     },
     "execution_count": 4,
     "metadata": {},
     "output_type": "execute_result"
    }
   ],
   "source": [
    "failed_hdds = df.loc[df.failure==1][\"serial_number\"]\n",
    "failed_hdds.describe()"
   ]
  },
  {
   "cell_type": "code",
   "execution_count": 5,
   "metadata": {},
   "outputs": [],
   "source": [
    "fallas=df.loc[df.failure==1]"
   ]
  },
  {
   "cell_type": "code",
   "execution_count": 6,
   "metadata": {},
   "outputs": [
    {
     "data": {
      "text/plain": [
       "Index(['Z300GQAF', 'W3006E5B', 'W300J9JA', 'Z300KHN0', 'Z3015V4D',\n",
       "       'PL1311LAG2B1NH', 'Z300ZSJQ', 'Z300GYM0', 'Z3001J37'],\n",
       "      dtype='object', name='serial_number')"
      ]
     },
     "execution_count": 6,
     "metadata": {},
     "output_type": "execute_result"
    }
   ],
   "source": [
    "doble_falla=fallas.groupby(\"serial_number\")['serial_number'].count().sort_values(ascending=False).head(9).index\n",
    "doble_falla"
   ]
  },
  {
   "cell_type": "code",
   "execution_count": 7,
   "metadata": {},
   "outputs": [
    {
     "name": "stdout",
     "output_type": "stream",
     "text": [
      "Int64Index([3525, 3649], dtype='int64')\n",
      "Int64Index([153, 344], dtype='int64')\n",
      "Int64Index([3415, 3539], dtype='int64')\n",
      "Int64Index([106, 297], dtype='int64')\n",
      "Int64Index([121, 312], dtype='int64')\n",
      "Int64Index([3483, 3607], dtype='int64')\n",
      "Int64Index([3468, 3592], dtype='int64')\n",
      "Int64Index([3410, 3534], dtype='int64')\n",
      "Int64Index([3453, 3577], dtype='int64')\n",
      "[3649, 344, 3539, 297, 312, 3607, 3592, 3534, 3577]\n"
     ]
    }
   ],
   "source": [
    "registros_a_eliminar=[]\n",
    "for i in doble_falla:\n",
    "    aux=df['serial_number'].loc[df.serial_number==i][df.failure==1].index\n",
    "    registros_a_eliminar.append(max(aux))\n",
    "    print(aux)\n",
    "print(registros_a_eliminar)"
   ]
  },
  {
   "cell_type": "code",
   "execution_count": 8,
   "metadata": {
    "scrolled": true
   },
   "outputs": [
    {
     "data": {
      "text/plain": [
       "count          205\n",
       "unique         205\n",
       "top       W0Q6KWV8\n",
       "freq             1\n",
       "Name: serial_number, dtype: object"
      ]
     },
     "execution_count": 8,
     "metadata": {},
     "output_type": "execute_result"
    }
   ],
   "source": [
    "for i in registros_a_eliminar:\n",
    "    df=df.drop([i],axis=0)\n",
    "failed_hdds = df.loc[df.failure==1][\"serial_number\"]\n",
    "failed_hdds.describe()"
   ]
  },
  {
   "cell_type": "markdown",
   "metadata": {},
   "source": [
    "**Eliminamos los registros repetidos de fallas**\n"
   ]
  },
  {
   "cell_type": "markdown",
   "metadata": {},
   "source": [
    "# Creación de la columna vida_util_restante_int\n",
    "\n",
    "Es una columna que refleja, cuantos dias de vida le quedan al producto, para que falle. Esto es con el fin de identificar cambios en las variables tipo smart.\n"
   ]
  },
  {
   "cell_type": "code",
   "execution_count": 9,
   "metadata": {
    "scrolled": true
   },
   "outputs": [],
   "source": [
    "#Crear una columna con el dia en que muere el articulo\n",
    "df[\"end_date\"] = df.groupby(\"serial_number\")[\"date\"].transform(\"max\")\n",
    "\n",
    "#Tiempo de Vida util articulo(Real)\n",
    "df['vida_util_days'] = df.groupby(\"serial_number\")[\"time_day\"].transform(\"max\")\n",
    "\n",
    "\n",
    "#Transformamos a fecha\n",
    "df[\"end_date\"] = pd.to_datetime(df[\"end_date\"])\n",
    "df[\"date\"] = pd.to_datetime(df[\"date\"])\n",
    "\n",
    "\n",
    "#Vida util que le queda al articulo\n",
    "df[\"vida_util_restante\"] = (df[\"end_date\"] - df[\"date\"])\n",
    "#Vida util que le queda al articulo (int)\n",
    "df[\"vida_util_restante_int\"] = (df[\"vida_util_restante\"].astype('int64')/60**2)/24/1000000000.0\n",
    "\n",
    "#Vida util que le queda al articulo porcentual\n",
    "#df[\"vida_util_restante_porcentual\"] = (df[\"vida_util_restante_int\"]/df[\"vida_util_int\"])\n",
    "\n",
    "df_unique = df[df.failure==1]\n",
    "\n"
   ]
  },
  {
   "cell_type": "code",
   "execution_count": 10,
   "metadata": {},
   "outputs": [
    {
     "data": {
      "text/plain": [
       "count    5480.000000\n",
       "mean      864.437181\n",
       "std       522.790741\n",
       "min         0.583333\n",
       "25%       444.291667\n",
       "50%       839.166667\n",
       "75%      1150.791667\n",
       "max      2822.666667\n",
       "Name: vida_util_days, dtype: float64"
      ]
     },
     "execution_count": 10,
     "metadata": {},
     "output_type": "execute_result"
    }
   ],
   "source": [
    "df[\"vida_util_days\"].describe()"
   ]
  },
  {
   "cell_type": "code",
   "execution_count": 11,
   "metadata": {},
   "outputs": [
    {
     "data": {
      "text/plain": [
       "count                          5480\n",
       "mean     49 days 11:28:12.262773722\n",
       "std      44 days 09:03:20.392622798\n",
       "min                 0 days 00:00:00\n",
       "25%                 7 days 00:00:00\n",
       "50%                21 days 12:00:00\n",
       "75%                95 days 00:00:00\n",
       "max               119 days 00:00:00\n",
       "Name: vida_util_restante, dtype: object"
      ]
     },
     "execution_count": 11,
     "metadata": {},
     "output_type": "execute_result"
    }
   ],
   "source": [
    "df[\"vida_util_restante\"].describe()"
   ]
  },
  {
   "cell_type": "code",
   "execution_count": 12,
   "metadata": {},
   "outputs": [
    {
     "data": {
      "image/png": "[encoded data removed]",
      "text/plain": [
       "<Figure size 432x288 with 1 Axes>"
      ]
     },
     "metadata": {
      "needs_background": "light"
     },
     "output_type": "display_data"
    }
   ],
   "source": [
    "plt.hist(df_unique['vida_util_days'])#, bins=10\n",
    "plt.title(\"Tiempo de vida de todos los registros\", fontdict=None, loc='center', pad=None,)\n",
    "plt.show()"
   ]
  },
  {
   "cell_type": "code",
   "execution_count": 13,
   "metadata": {
    "scrolled": true
   },
   "outputs": [
    {
     "data": {
      "image/png": "[encoded data removed]",
      "text/plain": [
       "<Figure size 432x288 with 1 Axes>"
      ]
     },
     "metadata": {
      "needs_background": "light"
     },
     "output_type": "display_data"
    }
   ],
   "source": [
    "plt.hist(df_unique['vida_util_days'],cumulative=True ,bins=100)#, bins=10\n",
    "plt.title(\"CDF Tiempo de vida\", fontdict=None, loc='center', pad=None,)\n",
    "plt.show()"
   ]
  },
  {
   "cell_type": "markdown",
   "metadata": {},
   "source": [
    "## Comienzo Parte 1 b"
   ]
  },
  {
   "cell_type": "code",
   "execution_count": 14,
   "metadata": {},
   "outputs": [],
   "source": [
    "df_last_weak    = df[df.vida_util_restante_int<=7]\n",
    "df_last_2_weaks = df[df.vida_util_restante_int<=14]\n",
    "df_last_month   = df[df.vida_util_restante_int<=30]"
   ]
  },
  {
   "cell_type": "code",
   "execution_count": 15,
   "metadata": {},
   "outputs": [
    {
     "name": "stderr",
     "output_type": "stream",
     "text": [
      "/Users/matiaslopezportius/opt/anaconda3/envs/Machine_Learning/lib/python3.7/site-packages/ipykernel_launcher.py:1: FutureWarning: DataFrame.mean and DataFrame.median with numeric_only=None will include datetime64 and datetime64tz columns in a future version.\n"
     ]
    }
   ],
   "source": [
    "mean_weak = df_last_weak.mean()\n",
    "std_weak  = df_last_weak.std()\n",
    "skew_weak = df_last_weak.skew()"
   ]
  },
  {
   "cell_type": "code",
   "execution_count": 16,
   "metadata": {},
   "outputs": [
    {
     "name": "stderr",
     "output_type": "stream",
     "text": [
      "/Users/matiaslopezportius/opt/anaconda3/envs/Machine_Learning/lib/python3.7/site-packages/ipykernel_launcher.py:1: FutureWarning: DataFrame.mean and DataFrame.median with numeric_only=None will include datetime64 and datetime64tz columns in a future version.\n"
     ]
    }
   ],
   "source": [
    "mean_2_weaks  = df_last_2_weaks.mean()\n",
    "std_2_weaks   = df_last_2_weaks.std()\n",
    "skew_2_weaks  = df_last_2_weaks.skew()"
   ]
  },
  {
   "cell_type": "code",
   "execution_count": 17,
   "metadata": {},
   "outputs": [
    {
     "name": "stderr",
     "output_type": "stream",
     "text": [
      "/Users/matiaslopezportius/opt/anaconda3/envs/Machine_Learning/lib/python3.7/site-packages/ipykernel_launcher.py:1: FutureWarning: DataFrame.mean and DataFrame.median with numeric_only=None will include datetime64 and datetime64tz columns in a future version.\n"
     ]
    }
   ],
   "source": [
    "mean_month = df_last_month.mean()\n",
    "std_month  = df_last_month.std()\n",
    "skew_month = df_last_month.skew()"
   ]
  },
  {
   "cell_type": "code",
   "execution_count": 18,
   "metadata": {},
   "outputs": [],
   "source": [
    "d = {}\n",
    "A=[]\n",
    "B=[]\n",
    "C=[]\n",
    "L=[]\n",
    "M=[]\n",
    "N=[]\n",
    "X=[]\n",
    "Y=[]\n",
    "Z=[]\n",
    "Indices=[]\n",
    "\n",
    "for i in mean_month.index:\n",
    "    if i[:5]=='smart':\n",
    "        indice=list(mean_month.index).index(i)\n",
    "        Indices.append(i)\n",
    "        \n",
    "        A.append(list(mean_weak.values)[indice])\n",
    "        B.append(list(mean_2_weaks.values)[indice])\n",
    "        C.append(list(mean_month.values)[indice])\n",
    "        \n",
    "        L.append(list(std_weak.values)[indice])\n",
    "        M.append(list(std_2_weaks.values)[indice])\n",
    "        N.append(list(std_month.values)[indice])\n",
    "        \n",
    "        X.append(list(skew_weak.values)[indice])\n",
    "        Y.append(list(skew_2_weaks.values)[indice])\n",
    "        Z.append(list(skew_month.values)[indice])\n",
    "        \n",
    "        \n",
    "d= {'Indices':Indices,'Mean_Weak':A,'Mean_2_Weak':B,'Mean_Month':C,\n",
    "    'sd_Weak':L,'sd_2_WeakS':M,'sd_Month':N,'skew_Weak':X,\n",
    "    'skew_2_Weaks':Y,'skew_Month':Z}"
   ]
  },
  {
   "cell_type": "markdown",
   "metadata": {},
   "source": [
    "## Agregamos el coeficiente de variación\n",
    "\n",
    "Este valor nos indica la variación de los los valores de las variables SMART, si estas poseen un valor muy bajo de variaciones, su influencia en el modelo es despreciable. Así que eliminaremos todas aquellas que poseean un coeficiente de variación inferior al 1%."
   ]
  },
  {
   "cell_type": "code",
   "execution_count": 19,
   "metadata": {},
   "outputs": [],
   "source": [
    "stats_smart=pd.DataFrame.from_dict(d)\n",
    "stats_smart[\"Coef_Var_Month\"] = ((stats_smart['sd_Month'])/(stats_smart['Mean_Month']))"
   ]
  },
  {
   "cell_type": "code",
   "execution_count": 20,
   "metadata": {},
   "outputs": [
    {
     "data": {
      "text/plain": [
       "15"
      ]
     },
     "execution_count": 20,
     "metadata": {},
     "output_type": "execute_result"
    }
   ],
   "source": [
    "val_delete=stats_smart[stats_smart.Coef_Var_Month>0.1]\n",
    "len(val_delete)"
   ]
  },
  {
   "cell_type": "code",
   "execution_count": 21,
   "metadata": {},
   "outputs": [],
   "source": [
    "stats_smart = stats_smart.round(1)\n",
    "columnas_weak_month = stats_smart.columns\n",
    "stats_smart_sin_nan = stats_smart.dropna(subset=columnas_weak_month)\n",
    "lista_smart_sin_nans=list(stats_smart_sin_nan['Indices']) "
   ]
  },
  {
   "cell_type": "code",
   "execution_count": 22,
   "metadata": {},
   "outputs": [],
   "source": [
    "for i in lista_smart_sin_nans:\n",
    "    if i in Indices:\n",
    "        Indices.remove(i)\n",
    "for i in Indices:\n",
    "    del df[i]\n",
    "    del df_unique[i]"
   ]
  },
  {
   "cell_type": "code",
   "execution_count": 23,
   "metadata": {},
   "outputs": [
    {
     "name": "stdout",
     "output_type": "stream",
     "text": [
      "1.0\n",
      "0.0\n"
     ]
    }
   ],
   "source": [
    "print(stats_smart.Coef_Var_Month.max())\n",
    "print(stats_smart.Coef_Var_Month.min())"
   ]
  },
  {
   "cell_type": "code",
   "execution_count": 24,
   "metadata": {},
   "outputs": [
    {
     "name": "stdout",
     "output_type": "stream",
     "text": [
      "1.0434913066025737\n",
      "0.10285934529283577\n"
     ]
    }
   ],
   "source": [
    "print(val_delete.Coef_Var_Month.max())\n",
    "print(val_delete.Coef_Var_Month.min())"
   ]
  },
  {
   "cell_type": "markdown",
   "metadata": {},
   "source": [
    "## Resultado de una data, sin variables con coeficiente de variación bajo."
   ]
  },
  {
   "cell_type": "code",
   "execution_count": 25,
   "metadata": {
    "scrolled": true
   },
   "outputs": [
    {
     "name": "stderr",
     "output_type": "stream",
     "text": [
      "/Users/matiaslopezportius/opt/anaconda3/envs/Machine_Learning/lib/python3.7/site-packages/plotnine/layer.py:467: PlotnineWarning: geom_point : Removed 4 rows containing missing values.\n"
     ]
    },
    {
     "data": {
      "image/png": "[encoded data removed]",
      "text/plain": [
       "<Figure size 640x480 with 1 Axes>"
      ]
     },
     "metadata": {},
     "output_type": "display_data"
    },
    {
     "data": {
      "text/plain": [
       "<ggplot: (347622701)>"
      ]
     },
     "execution_count": 25,
     "metadata": {},
     "output_type": "execute_result"
    }
   ],
   "source": [
    "ggplot(stats_smart, aes(x = \"Indices\", y = \"skew_Month\",color='Mean_Month',size='Coef_Var_Month'))\\\n",
    "+theme(axis_text_x=element_text(angle=90,size=5))\\\n",
    "+ggtitle(\"Discos Duros\") + geom_point()\n"
   ]
  },
  {
   "cell_type": "code",
   "execution_count": 26,
   "metadata": {
    "scrolled": true
   },
   "outputs": [
    {
     "data": {
      "image/png": "[encoded data removed]",
      "text/plain": [
       "<Figure size 640x480 with 1 Axes>"
      ]
     },
     "metadata": {},
     "output_type": "display_data"
    },
    {
     "data": {
      "text/plain": [
       "<ggplot: (347583993)>"
      ]
     },
     "execution_count": 26,
     "metadata": {},
     "output_type": "execute_result"
    }
   ],
   "source": [
    "ggplot(val_delete, aes(x = \"Indices\", y = \"Coef_Var_Month\",color='Mean_Month',size='skew_Month'))\\\n",
    "+theme(axis_text_x=element_text(angle=90))\\\n",
    "+ggtitle(\"Discos Duros\") + geom_point()"
   ]
  },
  {
   "cell_type": "code",
   "execution_count": 27,
   "metadata": {
    "scrolled": true
   },
   "outputs": [
    {
     "data": {
      "image/png": "[encoded data removed]",
      "text/plain": [
       "<Figure size 640x480 with 1 Axes>"
      ]
     },
     "metadata": {},
     "output_type": "display_data"
    },
    {
     "data": {
      "text/plain": [
       "<ggplot: (346865301)>"
      ]
     },
     "execution_count": 27,
     "metadata": {},
     "output_type": "execute_result"
    }
   ],
   "source": [
    "ggplot(val_delete, aes(x = \"Indices\", y = \"sd_2_WeakS\",color='Mean_2_Weak',size='skew_2_Weaks'))\\\n",
    "+theme(axis_text_x=element_text(angle=90))\\\n",
    "+ggtitle(\"Discos Duros\") + geom_point()"
   ]
  },
  {
   "cell_type": "code",
   "execution_count": 28,
   "metadata": {
    "scrolled": false
   },
   "outputs": [
    {
     "data": {
      "image/png": "[encoded data removed]",
      "text/plain": [
       "<Figure size 640x480 with 1 Axes>"
      ]
     },
     "metadata": {},
     "output_type": "display_data"
    },
    {
     "data": {
      "text/plain": [
       "<ggplot: (347547377)>"
      ]
     },
     "execution_count": 28,
     "metadata": {},
     "output_type": "execute_result"
    }
   ],
   "source": [
    "ggplot(val_delete, aes(x = \"Indices\", y = \"sd_Month\",color='Mean_Month',size='skew_Month'))\\\n",
    "+theme(axis_text_x=element_text(angle=90))\\\n",
    "+ggtitle(\"Discos Duros\") + geom_point()"
   ]
  },
  {
   "cell_type": "markdown",
   "metadata": {},
   "source": [
    "Guardar el p-valor de km, donde se prioriza las variables mas significativas para explicar el comportamiento.\n",
    "\n",
    "Separar los datos en cuartiles, como lo que se hace en edad."
   ]
  },
  {
   "cell_type": "markdown",
   "metadata": {},
   "source": [
    "# Me quedaré solo con las variables smart que poseen una covarianza superior al 10%\n",
    "\n"
   ]
  },
  {
   "cell_type": "code",
   "execution_count": 29,
   "metadata": {},
   "outputs": [],
   "source": [
    "list_not_delete=val_delete.Indices"
   ]
  },
  {
   "cell_type": "code",
   "execution_count": 30,
   "metadata": {},
   "outputs": [
    {
     "name": "stdout",
     "output_type": "stream",
     "text": [
      "['smart_4_normalized', 'smart_10_normalized', 'smart_11_normalized', 'smart_12_normalized', 'smart_183_normalized', 'smart_184_normalized', 'smart_187_normalized', 'smart_188_normalized', 'smart_189_normalized', 'smart_190_normalized', 'smart_191_normalized', 'smart_199_normalized', 'smart_220_normalized', 'smart_222_normalized', 'smart_223_normalized', 'smart_224_normalized', 'smart_226_normalized', 'smart_240_normalized', 'smart_241_normalized', 'smart_242_normalized', 'smart_250_normalized', 'smart_251_normalized', 'smart_252_normalized'] Cantidad de columnas a eliminar: 23\n"
     ]
    }
   ],
   "source": [
    "columnas=df.columns\n",
    "columnas_coef_0_1=[]\n",
    "for i in columnas:\n",
    "    l=len(i)\n",
    "    if i[:5]== 'smart':\n",
    "        columnas_coef_0_1.append(i)\n",
    "# no eliminamos la columna smart_9_raw,\n",
    "# ya que esta indica el tiempo de vida del disco\n",
    "for j in list_not_delete.index:\n",
    "    columnas_coef_0_1.remove(list_not_delete.loc[j])\n",
    "print(columnas_coef_0_1,'Cantidad de columnas a eliminar:', len(columnas_coef_0_1))"
   ]
  },
  {
   "cell_type": "code",
   "execution_count": 31,
   "metadata": {},
   "outputs": [],
   "source": [
    "df = df.drop(columns=columnas_coef_0_1, axis=1)"
   ]
  },
  {
   "cell_type": "code",
   "execution_count": 32,
   "metadata": {
    "scrolled": true
   },
   "outputs": [
    {
     "data": {
      "text/plain": [
       "['smart_2_normalized',\n",
       " 'smart_8_normalized',\n",
       " 'smart_195_normalized',\n",
       " 'smart_196_normalized',\n",
       " 'smart_200_normalized',\n",
       " 'smart_254_normalized']"
      ]
     },
     "execution_count": 32,
     "metadata": {},
     "output_type": "execute_result"
    }
   ],
   "source": [
    "NANS_FINALES=df.isna().sum()>500\n",
    "NANS_FINALES_index=list(NANS_FINALES.index)\n",
    "NANS_FINALES_values=list(NANS_FINALES.values)\n",
    "columns_to_delete=[]\n",
    "for i in range(len(NANS_FINALES_index)):\n",
    "    if NANS_FINALES_values[i]:\n",
    "        columns_to_delete.append(NANS_FINALES_index[i])\n",
    "columns_to_delete"
   ]
  },
  {
   "cell_type": "code",
   "execution_count": 33,
   "metadata": {},
   "outputs": [],
   "source": [
    "df = df.drop(columns=columns_to_delete, axis=1)"
   ]
  },
  {
   "cell_type": "code",
   "execution_count": 34,
   "metadata": {},
   "outputs": [
    {
     "name": "stderr",
     "output_type": "stream",
     "text": [
      "/Users/matiaslopezportius/opt/anaconda3/envs/Machine_Learning/lib/python3.7/site-packages/ipykernel_launcher.py:5: FutureWarning: DataFrame.mean and DataFrame.median with numeric_only=None will include datetime64 and datetime64tz columns in a future version.\n",
      "/Users/matiaslopezportius/opt/anaconda3/envs/Machine_Learning/lib/python3.7/site-packages/ipykernel_launcher.py:9: FutureWarning: DataFrame.mean and DataFrame.median with numeric_only=None will include datetime64 and datetime64tz columns in a future version.\n",
      "/Users/matiaslopezportius/opt/anaconda3/envs/Machine_Learning/lib/python3.7/site-packages/ipykernel_launcher.py:13: FutureWarning: DataFrame.mean and DataFrame.median with numeric_only=None will include datetime64 and datetime64tz columns in a future version.\n"
     ]
    }
   ],
   "source": [
    "df_last_weak    = df[df.vida_util_restante_int<=7]\n",
    "df_last_2_weaks = df[df.vida_util_restante_int<=14]\n",
    "df_last_month   = df[df.vida_util_restante_int<=30]\n",
    "\n",
    "mean_weak = df_last_weak.mean()\n",
    "std_weak  = df_last_weak.std()\n",
    "skew_weak = df_last_weak.skew()\n",
    "\n",
    "mean_2_weaks  = df_last_2_weaks.mean()\n",
    "std_2_weaks   = df_last_2_weaks.std()\n",
    "skew_2_weaks  = df_last_2_weaks.skew()\n",
    "\n",
    "mean_month = df_last_month.mean()\n",
    "std_month  = df_last_month.std()\n",
    "skew_month = df_last_month.skew()\n",
    "\n",
    "d = {}\n",
    "A=[]\n",
    "B=[]\n",
    "C=[]\n",
    "L=[]\n",
    "M=[]\n",
    "N=[]\n",
    "X=[]\n",
    "Y=[]\n",
    "Z=[]\n",
    "Indices=[]\n",
    "\n",
    "\n",
    "for i in mean_month.index:\n",
    "    if i[:5]=='smart':\n",
    "        indice=list(mean_month.index).index(i)\n",
    "        Indices.append(i)\n",
    "        \n",
    "        A.append(list(mean_weak.values)[indice])\n",
    "        B.append(list(mean_2_weaks.values)[indice])\n",
    "        C.append(list(mean_month.values)[indice])\n",
    "        \n",
    "        L.append(list(std_weak.values)[indice])\n",
    "        M.append(list(std_2_weaks.values)[indice])\n",
    "        N.append(list(std_month.values)[indice])\n",
    "        \n",
    "        X.append(list(skew_weak.values)[indice])\n",
    "        Y.append(list(skew_2_weaks.values)[indice])\n",
    "        Z.append(list(skew_month.values)[indice])    \n",
    "\n",
    "I=A+B+C\n",
    "J=L+M+N\n",
    "K=X+Y+Z\n",
    "P=Indices+Indices+Indices\n",
    "TIEMPO=['One weak' for i in range(len(A))]+['Two Weaks' for i in range(len(A))]+['Month' for i in range(len(A))]\n",
    "d= {'Indices':Indices,'Mean_Weak':A,'Mean_2_Weak':B,'Mean_Month':C,\n",
    "    'sd_Weak':L,'sd_2_WeakS':M,'sd_Month':N,'skew_Weak':X,\n",
    "    'skew_2_Weaks':Y,'skew_Month':Z}\n",
    "d2={'Indices':P,'Mean':I,'sd':J,'skew':K,'Periodo':TIEMPO}\n",
    "df_d2=pd.DataFrame.from_dict(d2).round(1)\n",
    "stats_smart=pd.DataFrame.from_dict(d)\n",
    "stats_smart[\"Coef_Var_Month\"] = ((stats_smart['sd_Month'])/(stats_smart['Mean_Month']))"
   ]
  },
  {
   "cell_type": "code",
   "execution_count": 35,
   "metadata": {},
   "outputs": [],
   "source": [
    "stats_smart = stats_smart.round(1)"
   ]
  },
  {
   "cell_type": "code",
   "execution_count": 36,
   "metadata": {},
   "outputs": [
    {
     "name": "stdout",
     "output_type": "stream",
     "text": [
      "1.0\n",
      "0.2\n"
     ]
    }
   ],
   "source": [
    "print(stats_smart.Coef_Var_Month.max())\n",
    "print(stats_smart.Coef_Var_Month.min())"
   ]
  },
  {
   "cell_type": "code",
   "execution_count": 39,
   "metadata": {},
   "outputs": [
    {
     "data": {
      "image/png": "[encoded data removed]",
      "text/plain": [
       "<Figure size 640x480 with 1 Axes>"
      ]
     },
     "metadata": {},
     "output_type": "display_data"
    },
    {
     "data": {
      "text/plain": [
       "<ggplot: (348340009)>"
      ]
     },
     "execution_count": 39,
     "metadata": {},
     "output_type": "execute_result"
    }
   ],
   "source": [
    "ggplot(stats_smart, aes(x = \"Indices\", y = \"sd_Month\",color='Mean_Month',size='skew_Month'))\\\n",
    "+theme(axis_text_x=element_text(angle=90))\\\n",
    "+ggtitle(\"Discos Duros\") + geom_point()"
   ]
  },
  {
   "cell_type": "code",
   "execution_count": 40,
   "metadata": {},
   "outputs": [
    {
     "data": {
      "image/png": "[encoded data removed]",
      "text/plain": [
       "<Figure size 640x480 with 1 Axes>"
      ]
     },
     "metadata": {},
     "output_type": "display_data"
    },
    {
     "data": {
      "text/plain": [
       "<ggplot: (348046061)>"
      ]
     },
     "execution_count": 40,
     "metadata": {},
     "output_type": "execute_result"
    }
   ],
   "source": [
    "ggplot(stats_smart, aes(x = \"Indices\", y = \"sd_Weak\",color='Mean_Weak',size='skew_Weak'))\\\n",
    "+theme(axis_text_x=element_text(angle=90))\\\n",
    "+ggtitle(\"Discos Duros\") + geom_point()"
   ]
  },
  {
   "cell_type": "code",
   "execution_count": 41,
   "metadata": {},
   "outputs": [
    {
     "data": {
      "image/png": "[encoded data removed]",
      "text/plain": [
       "<Figure size 640x480 with 1 Axes>"
      ]
     },
     "metadata": {},
     "output_type": "display_data"
    },
    {
     "data": {
      "text/plain": [
       "<ggplot: (348687625)>"
      ]
     },
     "execution_count": 41,
     "metadata": {},
     "output_type": "execute_result"
    }
   ],
   "source": [
    "ggplot(stats_smart, aes(x = \"Indices\", y = \"sd_2_WeakS\",color='Mean_2_Weak',size='skew_2_Weaks'))\\\n",
    "+theme(axis_text_x=element_text(angle=90))\\\n",
    "+ggtitle(\"Discos Duros\") + geom_point()"
   ]
  },
  {
   "cell_type": "code",
   "execution_count": 38,
   "metadata": {},
   "outputs": [
    {
     "data": {
      "text/html": [
       "<div>\n",
       "<style scoped>\n",
       "    .dataframe tbody tr th:only-of-type {\n",
       "        vertical-align: middle;\n",
       "    }\n",
       "\n",
       "    .dataframe tbody tr th {\n",
       "        vertical-align: top;\n",
       "    }\n",
       "\n",
       "    .dataframe thead th {\n",
       "        text-align: right;\n",
       "    }\n",
       "</style>\n",
       "<table border=\"1\" class=\"dataframe\">\n",
       "  <thead>\n",
       "    <tr style=\"text-align: right;\">\n",
       "      <th></th>\n",
       "      <th>Indices</th>\n",
       "      <th>Mean_Weak</th>\n",
       "      <th>Mean_2_Weak</th>\n",
       "      <th>Mean_Month</th>\n",
       "      <th>sd_Weak</th>\n",
       "      <th>sd_2_WeakS</th>\n",
       "      <th>sd_Month</th>\n",
       "      <th>skew_Weak</th>\n",
       "      <th>skew_2_Weaks</th>\n",
       "      <th>skew_Month</th>\n",
       "      <th>Coef_Var_Month</th>\n",
       "    </tr>\n",
       "  </thead>\n",
       "  <tbody>\n",
       "    <tr>\n",
       "      <th>0</th>\n",
       "      <td>smart_1_normalized</td>\n",
       "      <td>122.4</td>\n",
       "      <td>123.2</td>\n",
       "      <td>124.7</td>\n",
       "      <td>29.4</td>\n",
       "      <td>29.8</td>\n",
       "      <td>31.0</td>\n",
       "      <td>2.0</td>\n",
       "      <td>1.9</td>\n",
       "      <td>1.8</td>\n",
       "      <td>0.2</td>\n",
       "    </tr>\n",
       "    <tr>\n",
       "      <th>1</th>\n",
       "      <td>smart_3_normalized</td>\n",
       "      <td>103.0</td>\n",
       "      <td>103.1</td>\n",
       "      <td>103.6</td>\n",
       "      <td>20.4</td>\n",
       "      <td>19.8</td>\n",
       "      <td>20.1</td>\n",
       "      <td>3.0</td>\n",
       "      <td>2.8</td>\n",
       "      <td>2.6</td>\n",
       "      <td>0.2</td>\n",
       "    </tr>\n",
       "    <tr>\n",
       "      <th>2</th>\n",
       "      <td>smart_5_normalized</td>\n",
       "      <td>110.2</td>\n",
       "      <td>110.9</td>\n",
       "      <td>112.7</td>\n",
       "      <td>34.0</td>\n",
       "      <td>34.6</td>\n",
       "      <td>35.8</td>\n",
       "      <td>1.9</td>\n",
       "      <td>1.9</td>\n",
       "      <td>1.8</td>\n",
       "      <td>0.3</td>\n",
       "    </tr>\n",
       "    <tr>\n",
       "      <th>3</th>\n",
       "      <td>smart_7_normalized</td>\n",
       "      <td>94.9</td>\n",
       "      <td>95.7</td>\n",
       "      <td>97.0</td>\n",
       "      <td>28.3</td>\n",
       "      <td>29.8</td>\n",
       "      <td>32.0</td>\n",
       "      <td>3.2</td>\n",
       "      <td>3.0</td>\n",
       "      <td>2.8</td>\n",
       "      <td>0.3</td>\n",
       "    </tr>\n",
       "    <tr>\n",
       "      <th>4</th>\n",
       "      <td>smart_192_normalized</td>\n",
       "      <td>111.3</td>\n",
       "      <td>111.8</td>\n",
       "      <td>113.1</td>\n",
       "      <td>31.8</td>\n",
       "      <td>32.4</td>\n",
       "      <td>33.8</td>\n",
       "      <td>2.4</td>\n",
       "      <td>2.4</td>\n",
       "      <td>2.2</td>\n",
       "      <td>0.3</td>\n",
       "    </tr>\n",
       "    <tr>\n",
       "      <th>5</th>\n",
       "      <td>smart_193_normalized</td>\n",
       "      <td>96.7</td>\n",
       "      <td>96.6</td>\n",
       "      <td>96.9</td>\n",
       "      <td>41.2</td>\n",
       "      <td>42.2</td>\n",
       "      <td>44.7</td>\n",
       "      <td>0.9</td>\n",
       "      <td>0.9</td>\n",
       "      <td>0.8</td>\n",
       "      <td>0.5</td>\n",
       "    </tr>\n",
       "    <tr>\n",
       "      <th>6</th>\n",
       "      <td>smart_194_normalized</td>\n",
       "      <td>59.4</td>\n",
       "      <td>58.4</td>\n",
       "      <td>57.8</td>\n",
       "      <td>64.5</td>\n",
       "      <td>62.8</td>\n",
       "      <td>60.4</td>\n",
       "      <td>1.8</td>\n",
       "      <td>1.8</td>\n",
       "      <td>1.8</td>\n",
       "      <td>1.0</td>\n",
       "    </tr>\n",
       "    <tr>\n",
       "      <th>7</th>\n",
       "      <td>smart_197_normalized</td>\n",
       "      <td>111.6</td>\n",
       "      <td>112.2</td>\n",
       "      <td>113.8</td>\n",
       "      <td>32.3</td>\n",
       "      <td>33.0</td>\n",
       "      <td>34.6</td>\n",
       "      <td>2.3</td>\n",
       "      <td>2.3</td>\n",
       "      <td>2.1</td>\n",
       "      <td>0.3</td>\n",
       "    </tr>\n",
       "    <tr>\n",
       "      <th>8</th>\n",
       "      <td>smart_198_normalized</td>\n",
       "      <td>103.1</td>\n",
       "      <td>103.4</td>\n",
       "      <td>103.8</td>\n",
       "      <td>17.6</td>\n",
       "      <td>18.2</td>\n",
       "      <td>19.1</td>\n",
       "      <td>5.3</td>\n",
       "      <td>5.1</td>\n",
       "      <td>4.8</td>\n",
       "      <td>0.2</td>\n",
       "    </tr>\n",
       "  </tbody>\n",
       "</table>\n",
       "</div>"
      ],
      "text/plain": [
       "                Indices  Mean_Weak  Mean_2_Weak  Mean_Month  sd_Weak  \\\n",
       "0    smart_1_normalized      122.4        123.2       124.7     29.4   \n",
       "1    smart_3_normalized      103.0        103.1       103.6     20.4   \n",
       "2    smart_5_normalized      110.2        110.9       112.7     34.0   \n",
       "3    smart_7_normalized       94.9         95.7        97.0     28.3   \n",
       "4  smart_192_normalized      111.3        111.8       113.1     31.8   \n",
       "5  smart_193_normalized       96.7         96.6        96.9     41.2   \n",
       "6  smart_194_normalized       59.4         58.4        57.8     64.5   \n",
       "7  smart_197_normalized      111.6        112.2       113.8     32.3   \n",
       "8  smart_198_normalized      103.1        103.4       103.8     17.6   \n",
       "\n",
       "   sd_2_WeakS  sd_Month  skew_Weak  skew_2_Weaks  skew_Month  Coef_Var_Month  \n",
       "0        29.8      31.0        2.0           1.9         1.8             0.2  \n",
       "1        19.8      20.1        3.0           2.8         2.6             0.2  \n",
       "2        34.6      35.8        1.9           1.9         1.8             0.3  \n",
       "3        29.8      32.0        3.2           3.0         2.8             0.3  \n",
       "4        32.4      33.8        2.4           2.4         2.2             0.3  \n",
       "5        42.2      44.7        0.9           0.9         0.8             0.5  \n",
       "6        62.8      60.4        1.8           1.8         1.8             1.0  \n",
       "7        33.0      34.6        2.3           2.3         2.1             0.3  \n",
       "8        18.2      19.1        5.3           5.1         4.8             0.2  "
      ]
     },
     "execution_count": 38,
     "metadata": {},
     "output_type": "execute_result"
    }
   ],
   "source": [
    "stats_smart"
   ]
  },
  {
   "cell_type": "code",
   "execution_count": 89,
   "metadata": {},
   "outputs": [
    {
     "data": {
      "image/png": "[encoded data removed]",
      "text/plain": [
       "<Figure size 640x480 with 1 Axes>"
      ]
     },
     "metadata": {},
     "output_type": "display_data"
    },
    {
     "data": {
      "text/plain": [
       "<ggplot: (338258585)>"
      ]
     },
     "execution_count": 89,
     "metadata": {},
     "output_type": "execute_result"
    }
   ],
   "source": [
    "ggplot(df_d2, aes(x = \"Periodo\", y = \"skew\",color='Indices',size='sd'))\\\n",
    "+ggtitle(\"Discos Duros\") + geom_point()"
   ]
  },
  {
   "cell_type": "code",
   "execution_count": null,
   "metadata": {},
   "outputs": [],
   "source": [
    " mapping = aes(x='reorder(var2, value)', y='value')"
   ]
  },
  {
   "cell_type": "code",
   "execution_count": 46,
   "metadata": {},
   "outputs": [
    {
     "data": {
      "text/html": [
       "<div>\n",
       "<style scoped>\n",
       "    .dataframe tbody tr th:only-of-type {\n",
       "        vertical-align: middle;\n",
       "    }\n",
       "\n",
       "    .dataframe tbody tr th {\n",
       "        vertical-align: top;\n",
       "    }\n",
       "\n",
       "    .dataframe thead th {\n",
       "        text-align: right;\n",
       "    }\n",
       "</style>\n",
       "<table border=\"1\" class=\"dataframe\">\n",
       "  <thead>\n",
       "    <tr style=\"text-align: right;\">\n",
       "      <th></th>\n",
       "      <th>Indices</th>\n",
       "      <th>Mean</th>\n",
       "      <th>sd</th>\n",
       "      <th>skew</th>\n",
       "      <th>Periodo</th>\n",
       "    </tr>\n",
       "  </thead>\n",
       "  <tbody>\n",
       "    <tr>\n",
       "      <th>0</th>\n",
       "      <td>smart_1_normalized</td>\n",
       "      <td>122.4</td>\n",
       "      <td>29.4</td>\n",
       "      <td>2.0</td>\n",
       "      <td>One weak</td>\n",
       "    </tr>\n",
       "    <tr>\n",
       "      <th>1</th>\n",
       "      <td>smart_3_normalized</td>\n",
       "      <td>103.0</td>\n",
       "      <td>20.4</td>\n",
       "      <td>3.0</td>\n",
       "      <td>One weak</td>\n",
       "    </tr>\n",
       "    <tr>\n",
       "      <th>2</th>\n",
       "      <td>smart_5_normalized</td>\n",
       "      <td>110.2</td>\n",
       "      <td>34.0</td>\n",
       "      <td>1.9</td>\n",
       "      <td>One weak</td>\n",
       "    </tr>\n",
       "    <tr>\n",
       "      <th>3</th>\n",
       "      <td>smart_7_normalized</td>\n",
       "      <td>94.9</td>\n",
       "      <td>28.3</td>\n",
       "      <td>3.2</td>\n",
       "      <td>One weak</td>\n",
       "    </tr>\n",
       "    <tr>\n",
       "      <th>4</th>\n",
       "      <td>smart_192_normalized</td>\n",
       "      <td>111.3</td>\n",
       "      <td>31.8</td>\n",
       "      <td>2.4</td>\n",
       "      <td>One weak</td>\n",
       "    </tr>\n",
       "    <tr>\n",
       "      <th>5</th>\n",
       "      <td>smart_193_normalized</td>\n",
       "      <td>96.7</td>\n",
       "      <td>41.2</td>\n",
       "      <td>0.9</td>\n",
       "      <td>One weak</td>\n",
       "    </tr>\n",
       "    <tr>\n",
       "      <th>6</th>\n",
       "      <td>smart_194_normalized</td>\n",
       "      <td>59.4</td>\n",
       "      <td>64.5</td>\n",
       "      <td>1.8</td>\n",
       "      <td>One weak</td>\n",
       "    </tr>\n",
       "    <tr>\n",
       "      <th>7</th>\n",
       "      <td>smart_197_normalized</td>\n",
       "      <td>111.6</td>\n",
       "      <td>32.3</td>\n",
       "      <td>2.3</td>\n",
       "      <td>One weak</td>\n",
       "    </tr>\n",
       "    <tr>\n",
       "      <th>8</th>\n",
       "      <td>smart_198_normalized</td>\n",
       "      <td>103.1</td>\n",
       "      <td>17.6</td>\n",
       "      <td>5.3</td>\n",
       "      <td>One weak</td>\n",
       "    </tr>\n",
       "    <tr>\n",
       "      <th>9</th>\n",
       "      <td>smart_1_normalized</td>\n",
       "      <td>123.2</td>\n",
       "      <td>29.8</td>\n",
       "      <td>1.9</td>\n",
       "      <td>Two Weaks</td>\n",
       "    </tr>\n",
       "    <tr>\n",
       "      <th>10</th>\n",
       "      <td>smart_3_normalized</td>\n",
       "      <td>103.1</td>\n",
       "      <td>19.8</td>\n",
       "      <td>2.8</td>\n",
       "      <td>Two Weaks</td>\n",
       "    </tr>\n",
       "    <tr>\n",
       "      <th>11</th>\n",
       "      <td>smart_5_normalized</td>\n",
       "      <td>110.9</td>\n",
       "      <td>34.6</td>\n",
       "      <td>1.9</td>\n",
       "      <td>Two Weaks</td>\n",
       "    </tr>\n",
       "    <tr>\n",
       "      <th>12</th>\n",
       "      <td>smart_7_normalized</td>\n",
       "      <td>95.7</td>\n",
       "      <td>29.8</td>\n",
       "      <td>3.0</td>\n",
       "      <td>Two Weaks</td>\n",
       "    </tr>\n",
       "    <tr>\n",
       "      <th>13</th>\n",
       "      <td>smart_192_normalized</td>\n",
       "      <td>111.8</td>\n",
       "      <td>32.4</td>\n",
       "      <td>2.4</td>\n",
       "      <td>Two Weaks</td>\n",
       "    </tr>\n",
       "    <tr>\n",
       "      <th>14</th>\n",
       "      <td>smart_193_normalized</td>\n",
       "      <td>96.6</td>\n",
       "      <td>42.2</td>\n",
       "      <td>0.9</td>\n",
       "      <td>Two Weaks</td>\n",
       "    </tr>\n",
       "    <tr>\n",
       "      <th>15</th>\n",
       "      <td>smart_194_normalized</td>\n",
       "      <td>58.4</td>\n",
       "      <td>62.8</td>\n",
       "      <td>1.8</td>\n",
       "      <td>Two Weaks</td>\n",
       "    </tr>\n",
       "    <tr>\n",
       "      <th>16</th>\n",
       "      <td>smart_197_normalized</td>\n",
       "      <td>112.2</td>\n",
       "      <td>33.0</td>\n",
       "      <td>2.3</td>\n",
       "      <td>Two Weaks</td>\n",
       "    </tr>\n",
       "    <tr>\n",
       "      <th>17</th>\n",
       "      <td>smart_198_normalized</td>\n",
       "      <td>103.4</td>\n",
       "      <td>18.2</td>\n",
       "      <td>5.1</td>\n",
       "      <td>Two Weaks</td>\n",
       "    </tr>\n",
       "    <tr>\n",
       "      <th>18</th>\n",
       "      <td>smart_1_normalized</td>\n",
       "      <td>124.7</td>\n",
       "      <td>31.0</td>\n",
       "      <td>1.8</td>\n",
       "      <td>Month</td>\n",
       "    </tr>\n",
       "    <tr>\n",
       "      <th>19</th>\n",
       "      <td>smart_3_normalized</td>\n",
       "      <td>103.6</td>\n",
       "      <td>20.1</td>\n",
       "      <td>2.6</td>\n",
       "      <td>Month</td>\n",
       "    </tr>\n",
       "    <tr>\n",
       "      <th>20</th>\n",
       "      <td>smart_5_normalized</td>\n",
       "      <td>112.7</td>\n",
       "      <td>35.8</td>\n",
       "      <td>1.8</td>\n",
       "      <td>Month</td>\n",
       "    </tr>\n",
       "    <tr>\n",
       "      <th>21</th>\n",
       "      <td>smart_7_normalized</td>\n",
       "      <td>97.0</td>\n",
       "      <td>32.0</td>\n",
       "      <td>2.8</td>\n",
       "      <td>Month</td>\n",
       "    </tr>\n",
       "    <tr>\n",
       "      <th>22</th>\n",
       "      <td>smart_192_normalized</td>\n",
       "      <td>113.1</td>\n",
       "      <td>33.8</td>\n",
       "      <td>2.2</td>\n",
       "      <td>Month</td>\n",
       "    </tr>\n",
       "    <tr>\n",
       "      <th>23</th>\n",
       "      <td>smart_193_normalized</td>\n",
       "      <td>96.9</td>\n",
       "      <td>44.7</td>\n",
       "      <td>0.8</td>\n",
       "      <td>Month</td>\n",
       "    </tr>\n",
       "    <tr>\n",
       "      <th>24</th>\n",
       "      <td>smart_194_normalized</td>\n",
       "      <td>57.8</td>\n",
       "      <td>60.4</td>\n",
       "      <td>1.8</td>\n",
       "      <td>Month</td>\n",
       "    </tr>\n",
       "    <tr>\n",
       "      <th>25</th>\n",
       "      <td>smart_197_normalized</td>\n",
       "      <td>113.8</td>\n",
       "      <td>34.6</td>\n",
       "      <td>2.1</td>\n",
       "      <td>Month</td>\n",
       "    </tr>\n",
       "    <tr>\n",
       "      <th>26</th>\n",
       "      <td>smart_198_normalized</td>\n",
       "      <td>103.8</td>\n",
       "      <td>19.1</td>\n",
       "      <td>4.8</td>\n",
       "      <td>Month</td>\n",
       "    </tr>\n",
       "  </tbody>\n",
       "</table>\n",
       "</div>"
      ],
      "text/plain": [
       "                 Indices   Mean    sd  skew    Periodo\n",
       "0     smart_1_normalized  122.4  29.4   2.0   One weak\n",
       "1     smart_3_normalized  103.0  20.4   3.0   One weak\n",
       "2     smart_5_normalized  110.2  34.0   1.9   One weak\n",
       "3     smart_7_normalized   94.9  28.3   3.2   One weak\n",
       "4   smart_192_normalized  111.3  31.8   2.4   One weak\n",
       "5   smart_193_normalized   96.7  41.2   0.9   One weak\n",
       "6   smart_194_normalized   59.4  64.5   1.8   One weak\n",
       "7   smart_197_normalized  111.6  32.3   2.3   One weak\n",
       "8   smart_198_normalized  103.1  17.6   5.3   One weak\n",
       "9     smart_1_normalized  123.2  29.8   1.9  Two Weaks\n",
       "10    smart_3_normalized  103.1  19.8   2.8  Two Weaks\n",
       "11    smart_5_normalized  110.9  34.6   1.9  Two Weaks\n",
       "12    smart_7_normalized   95.7  29.8   3.0  Two Weaks\n",
       "13  smart_192_normalized  111.8  32.4   2.4  Two Weaks\n",
       "14  smart_193_normalized   96.6  42.2   0.9  Two Weaks\n",
       "15  smart_194_normalized   58.4  62.8   1.8  Two Weaks\n",
       "16  smart_197_normalized  112.2  33.0   2.3  Two Weaks\n",
       "17  smart_198_normalized  103.4  18.2   5.1  Two Weaks\n",
       "18    smart_1_normalized  124.7  31.0   1.8      Month\n",
       "19    smart_3_normalized  103.6  20.1   2.6      Month\n",
       "20    smart_5_normalized  112.7  35.8   1.8      Month\n",
       "21    smart_7_normalized   97.0  32.0   2.8      Month\n",
       "22  smart_192_normalized  113.1  33.8   2.2      Month\n",
       "23  smart_193_normalized   96.9  44.7   0.8      Month\n",
       "24  smart_194_normalized   57.8  60.4   1.8      Month\n",
       "25  smart_197_normalized  113.8  34.6   2.1      Month\n",
       "26  smart_198_normalized  103.8  19.1   4.8      Month"
      ]
     },
     "execution_count": 46,
     "metadata": {},
     "output_type": "execute_result"
    }
   ],
   "source": [
    "df_d2"
   ]
  },
  {
   "cell_type": "code",
   "execution_count": 92,
   "metadata": {},
   "outputs": [],
   "source": []
  },
  {
   "cell_type": "code",
   "execution_count": 95,
   "metadata": {},
   "outputs": [
    {
     "data": {
      "text/plain": [
       "8.0"
      ]
     },
     "execution_count": 95,
     "metadata": {},
     "output_type": "execute_result"
    }
   ],
   "source": []
  },
  {
   "cell_type": "code",
   "execution_count": 96,
   "metadata": {},
   "outputs": [
    {
     "name": "stderr",
     "output_type": "stream",
     "text": [
      "/Users/matiaslopezportius/opt/anaconda3/envs/Machine_Learning/lib/python3.7/site-packages/ipykernel_launcher.py:1: FutureWarning: DataFrame.mean and DataFrame.median with numeric_only=None will include datetime64 and datetime64tz columns in a future version.\n"
     ]
    },
    {
     "data": {
      "text/plain": [
       "Index(['capacity_bytes', 'failure', 'smart_1_normalized', 'smart_3_normalized',\n",
       "       'smart_5_normalized', 'smart_7_normalized', 'time_day',\n",
       "       'smart_192_normalized', 'smart_193_normalized', 'smart_194_normalized',\n",
       "       'smart_197_normalized', 'smart_198_normalized', 'vida_util_days',\n",
       "       'vida_util_restante', 'vida_util_restante_int'],\n",
       "      dtype='object')"
      ]
     },
     "execution_count": 96,
     "metadata": {},
     "output_type": "execute_result"
    }
   ],
   "source": [
    "df.loc[df.serial_number==lista[50]].mean().index"
   ]
  },
  {
   "cell_type": "code",
   "execution_count": 98,
   "metadata": {},
   "outputs": [
    {
     "name": "stderr",
     "output_type": "stream",
     "text": [
      "/Users/matiaslopezportius/opt/anaconda3/envs/Machine_Learning/lib/python3.7/site-packages/ipykernel_launcher.py:1: FutureWarning: DataFrame.mean and DataFrame.median with numeric_only=None will include datetime64 and datetime64tz columns in a future version.\n"
     ]
    },
    {
     "data": {
      "text/plain": [
       "capacity_bytes                         1.97665e-311\n",
       "failure                                   0.0714286\n",
       "smart_1_normalized                          114.857\n",
       "smart_3_normalized                               91\n",
       "smart_5_normalized                              100\n",
       "smart_7_normalized                               86\n",
       "time_day                                    347.101\n",
       "smart_192_normalized                            100\n",
       "smart_193_normalized                             99\n",
       "smart_194_normalized                        22.5714\n",
       "smart_197_normalized                            100\n",
       "smart_198_normalized                            100\n",
       "vida_util_days                                353.5\n",
       "vida_util_restante        6 days 10:17:08.571428571\n",
       "vida_util_restante_int                      6.42857\n",
       "dtype: object"
      ]
     },
     "execution_count": 98,
     "metadata": {},
     "output_type": "execute_result"
    }
   ],
   "source": [
    "df.loc[df.serial_number==lista[50]].mean()"
   ]
  },
  {
   "cell_type": "code",
   "execution_count": 106,
   "metadata": {},
   "outputs": [
    {
     "data": {
      "text/plain": [
       "capacity_bytes           NaN\n",
       "failure                  NaN\n",
       "smart_1_normalized       NaN\n",
       "smart_3_normalized       NaN\n",
       "smart_5_normalized       NaN\n",
       "smart_7_normalized       NaN\n",
       "time_day                 NaN\n",
       "smart_192_normalized     NaN\n",
       "smart_193_normalized     NaN\n",
       "smart_194_normalized     NaN\n",
       "smart_197_normalized     NaN\n",
       "smart_198_normalized     NaN\n",
       "vida_util_days           NaN\n",
       "vida_util_restante_int   NaN\n",
       "dtype: float64"
      ]
     },
     "execution_count": 106,
     "metadata": {},
     "output_type": "execute_result"
    }
   ],
   "source": [
    "df.loc[df.serial_number==lista[0]].skew()"
   ]
  },
  {
   "cell_type": "code",
   "execution_count": 103,
   "metadata": {},
   "outputs": [
    {
     "name": "stderr",
     "output_type": "stream",
     "text": [
      "/Users/matiaslopezportius/opt/anaconda3/envs/Machine_Learning/lib/python3.7/site-packages/ipykernel_launcher.py:1: FutureWarning: DataFrame.mean and DataFrame.median with numeric_only=None will include datetime64 and datetime64tz columns in a future version.\n"
     ]
    },
    {
     "data": {
      "text/plain": [
       "['serial_number',\n",
       " 'model',\n",
       " 'time_day',\n",
       " 'smart_1_normalized_mean',\n",
       " 'smart_3_normalized_mean',\n",
       " 'smart_5_normalized_mean',\n",
       " 'smart_7_normalized_mean',\n",
       " 'smart_192_normalized_mean',\n",
       " 'smart_193_normalized_mean',\n",
       " 'smart_194_normalized_mean',\n",
       " 'smart_197_normalized_mean',\n",
       " 'smart_198_normalized_mean',\n",
       " 'smart_1_normalized_skew',\n",
       " 'smart_3_normalized_skew',\n",
       " 'smart_5_normalized_skew',\n",
       " 'smart_7_normalized_skew',\n",
       " 'smart_192_normalized_skew',\n",
       " 'smart_193_normalized_skew',\n",
       " 'smart_194_normalized_skew',\n",
       " 'smart_197_normalized_skew',\n",
       " 'smart_198_normalized_skew']"
      ]
     },
     "execution_count": 103,
     "metadata": {},
     "output_type": "execute_result"
    }
   ],
   "source": []
  },
  {
   "cell_type": "code",
   "execution_count": null,
   "metadata": {},
   "outputs": [],
   "source": [
    "indices=+indices[2:6]+indices[7:12]"
   ]
  },
  {
   "cell_type": "code",
   "execution_count": 104,
   "metadata": {},
   "outputs": [
    {
     "ename": "TypeError",
     "evalue": "unsupported operand type(s) for -: 'list' and 'list'",
     "output_type": "error",
     "traceback": [
      "\u001b[0;31m---------------------------------------------------------------------------\u001b[0m",
      "\u001b[0;31mTypeError\u001b[0m                                 Traceback (most recent call last)",
      "\u001b[0;32m<ipython-input-104-10c390910db1>\u001b[0m in \u001b[0;36m<module>\u001b[0;34m\u001b[0m\n\u001b[0;32m----> 1\u001b[0;31m \u001b[0;34m[\u001b[0m\u001b[0;36m2\u001b[0m\u001b[0;34m,\u001b[0m\u001b[0;36m3\u001b[0m\u001b[0;34m]\u001b[0m\u001b[0;34m-\u001b[0m\u001b[0;34m[\u001b[0m\u001b[0;36m1\u001b[0m\u001b[0;34m,\u001b[0m\u001b[0;36m10\u001b[0m\u001b[0;34m]\u001b[0m\u001b[0;34m\u001b[0m\u001b[0;34m\u001b[0m\u001b[0m\n\u001b[0m",
      "\u001b[0;31mTypeError\u001b[0m: unsupported operand type(s) for -: 'list' and 'list'"
     ]
    }
   ],
   "source": []
  },
  {
   "cell_type": "code",
   "execution_count": 105,
   "metadata": {},
   "outputs": [
    {
     "name": "stderr",
     "output_type": "stream",
     "text": [
      "/Users/matiaslopezportius/opt/anaconda3/envs/Machine_Learning/lib/python3.7/site-packages/ipykernel_launcher.py:9: FutureWarning: DataFrame.mean and DataFrame.median with numeric_only=None will include datetime64 and datetime64tz columns in a future version.\n",
      "/Users/matiaslopezportius/opt/anaconda3/envs/Machine_Learning/lib/python3.7/site-packages/ipykernel_launcher.py:20: FutureWarning: DataFrame.mean and DataFrame.median with numeric_only=None will include datetime64 and datetime64tz columns in a future version.\n"
     ]
    },
    {
     "data": {
      "text/html": [
       "<div>\n",
       "<style scoped>\n",
       "    .dataframe tbody tr th:only-of-type {\n",
       "        vertical-align: middle;\n",
       "    }\n",
       "\n",
       "    .dataframe tbody tr th {\n",
       "        vertical-align: top;\n",
       "    }\n",
       "\n",
       "    .dataframe thead th {\n",
       "        text-align: right;\n",
       "    }\n",
       "</style>\n",
       "<table border=\"1\" class=\"dataframe\">\n",
       "  <thead>\n",
       "    <tr style=\"text-align: right;\">\n",
       "      <th></th>\n",
       "      <th>serial_number</th>\n",
       "      <th>model</th>\n",
       "      <th>time_day</th>\n",
       "      <th>smart_1_normalized_mean</th>\n",
       "      <th>smart_3_normalized_mean</th>\n",
       "      <th>smart_5_normalized_mean</th>\n",
       "      <th>smart_7_normalized_mean</th>\n",
       "      <th>smart_192_normalized_mean</th>\n",
       "      <th>smart_193_normalized_mean</th>\n",
       "      <th>smart_194_normalized_mean</th>\n",
       "      <th>...</th>\n",
       "      <th>smart_198_normalized_mean</th>\n",
       "      <th>smart_1_normalized_delta_skew</th>\n",
       "      <th>smart_3_normalized_delta_skew</th>\n",
       "      <th>smart_5_normalized_delta_skew</th>\n",
       "      <th>smart_7_normalized_delta_skew</th>\n",
       "      <th>smart_192_normalized_delta_skew</th>\n",
       "      <th>smart_193_normalized_delta_skew</th>\n",
       "      <th>smart_194_normalized_delta_skew</th>\n",
       "      <th>smart_197_normalized_delta_skew</th>\n",
       "      <th>smart_198_normalized_delta_skew</th>\n",
       "    </tr>\n",
       "  </thead>\n",
       "  <tbody>\n",
       "    <tr>\n",
       "      <th>0</th>\n",
       "      <td>WD-WCC4MKDL77ZK</td>\n",
       "      <td>WDC WD20EFRX</td>\n",
       "      <td>366.958333</td>\n",
       "      <td>200.000000</td>\n",
       "      <td>100.0</td>\n",
       "      <td>200.0</td>\n",
       "      <td>100.000000</td>\n",
       "      <td>200.000000</td>\n",
       "      <td>200.000000</td>\n",
       "      <td>120.000000</td>\n",
       "      <td>...</td>\n",
       "      <td>100.0</td>\n",
       "      <td>NaN</td>\n",
       "      <td>NaN</td>\n",
       "      <td>NaN</td>\n",
       "      <td>NaN</td>\n",
       "      <td>NaN</td>\n",
       "      <td>NaN</td>\n",
       "      <td>NaN</td>\n",
       "      <td>NaN</td>\n",
       "      <td>NaN</td>\n",
       "    </tr>\n",
       "    <tr>\n",
       "      <th>0</th>\n",
       "      <td>Z300KHN0</td>\n",
       "      <td>ST4000DM000</td>\n",
       "      <td>801.916667</td>\n",
       "      <td>110.000000</td>\n",
       "      <td>91.0</td>\n",
       "      <td>100.0</td>\n",
       "      <td>85.000000</td>\n",
       "      <td>100.000000</td>\n",
       "      <td>93.000000</td>\n",
       "      <td>24.000000</td>\n",
       "      <td>...</td>\n",
       "      <td>100.0</td>\n",
       "      <td>NaN</td>\n",
       "      <td>NaN</td>\n",
       "      <td>NaN</td>\n",
       "      <td>NaN</td>\n",
       "      <td>NaN</td>\n",
       "      <td>NaN</td>\n",
       "      <td>NaN</td>\n",
       "      <td>NaN</td>\n",
       "      <td>NaN</td>\n",
       "    </tr>\n",
       "    <tr>\n",
       "      <th>0</th>\n",
       "      <td>Z3015V4D</td>\n",
       "      <td>ST4000DM000</td>\n",
       "      <td>674.041667</td>\n",
       "      <td>115.000000</td>\n",
       "      <td>92.0</td>\n",
       "      <td>100.0</td>\n",
       "      <td>77.000000</td>\n",
       "      <td>100.000000</td>\n",
       "      <td>64.000000</td>\n",
       "      <td>27.000000</td>\n",
       "      <td>...</td>\n",
       "      <td>100.0</td>\n",
       "      <td>NaN</td>\n",
       "      <td>NaN</td>\n",
       "      <td>NaN</td>\n",
       "      <td>NaN</td>\n",
       "      <td>NaN</td>\n",
       "      <td>NaN</td>\n",
       "      <td>NaN</td>\n",
       "      <td>NaN</td>\n",
       "      <td>NaN</td>\n",
       "    </tr>\n",
       "    <tr>\n",
       "      <th>0</th>\n",
       "      <td>W3006E5B</td>\n",
       "      <td>ST4000DM000</td>\n",
       "      <td>872.041667</td>\n",
       "      <td>117.000000</td>\n",
       "      <td>91.0</td>\n",
       "      <td>100.0</td>\n",
       "      <td>87.000000</td>\n",
       "      <td>100.000000</td>\n",
       "      <td>63.000000</td>\n",
       "      <td>22.000000</td>\n",
       "      <td>...</td>\n",
       "      <td>100.0</td>\n",
       "      <td>NaN</td>\n",
       "      <td>NaN</td>\n",
       "      <td>NaN</td>\n",
       "      <td>NaN</td>\n",
       "      <td>NaN</td>\n",
       "      <td>NaN</td>\n",
       "      <td>NaN</td>\n",
       "      <td>NaN</td>\n",
       "      <td>NaN</td>\n",
       "    </tr>\n",
       "    <tr>\n",
       "      <th>0</th>\n",
       "      <td>S301146W</td>\n",
       "      <td>ST4000DM000</td>\n",
       "      <td>259.458333</td>\n",
       "      <td>113.333333</td>\n",
       "      <td>97.0</td>\n",
       "      <td>100.0</td>\n",
       "      <td>84.000000</td>\n",
       "      <td>100.000000</td>\n",
       "      <td>91.000000</td>\n",
       "      <td>21.000000</td>\n",
       "      <td>...</td>\n",
       "      <td>81.0</td>\n",
       "      <td>NaN</td>\n",
       "      <td>NaN</td>\n",
       "      <td>NaN</td>\n",
       "      <td>NaN</td>\n",
       "      <td>NaN</td>\n",
       "      <td>NaN</td>\n",
       "      <td>NaN</td>\n",
       "      <td>NaN</td>\n",
       "      <td>NaN</td>\n",
       "    </tr>\n",
       "    <tr>\n",
       "      <th>...</th>\n",
       "      <td>...</td>\n",
       "      <td>...</td>\n",
       "      <td>...</td>\n",
       "      <td>...</td>\n",
       "      <td>...</td>\n",
       "      <td>...</td>\n",
       "      <td>...</td>\n",
       "      <td>...</td>\n",
       "      <td>...</td>\n",
       "      <td>...</td>\n",
       "      <td>...</td>\n",
       "      <td>...</td>\n",
       "      <td>...</td>\n",
       "      <td>...</td>\n",
       "      <td>...</td>\n",
       "      <td>...</td>\n",
       "      <td>...</td>\n",
       "      <td>...</td>\n",
       "      <td>...</td>\n",
       "      <td>...</td>\n",
       "      <td>...</td>\n",
       "    </tr>\n",
       "    <tr>\n",
       "      <th>0</th>\n",
       "      <td>W0Q6KWV8</td>\n",
       "      <td>ST320LT007</td>\n",
       "      <td>1244.333333</td>\n",
       "      <td>114.627451</td>\n",
       "      <td>98.0</td>\n",
       "      <td>95.0</td>\n",
       "      <td>81.000000</td>\n",
       "      <td>100.000000</td>\n",
       "      <td>27.372549</td>\n",
       "      <td>25.745098</td>\n",
       "      <td>...</td>\n",
       "      <td>100.0</td>\n",
       "      <td>-0.405724</td>\n",
       "      <td>0.0</td>\n",
       "      <td>0.0</td>\n",
       "      <td>0.0</td>\n",
       "      <td>0.000000</td>\n",
       "      <td>0.000000</td>\n",
       "      <td>0.048239</td>\n",
       "      <td>0.0</td>\n",
       "      <td>0.0</td>\n",
       "    </tr>\n",
       "    <tr>\n",
       "      <th>0</th>\n",
       "      <td>S300XP36</td>\n",
       "      <td>ST4000DM000</td>\n",
       "      <td>348.250000</td>\n",
       "      <td>115.549020</td>\n",
       "      <td>98.0</td>\n",
       "      <td>100.0</td>\n",
       "      <td>84.000000</td>\n",
       "      <td>100.000000</td>\n",
       "      <td>82.921569</td>\n",
       "      <td>22.294118</td>\n",
       "      <td>...</td>\n",
       "      <td>100.0</td>\n",
       "      <td>-0.602388</td>\n",
       "      <td>0.0</td>\n",
       "      <td>0.0</td>\n",
       "      <td>0.0</td>\n",
       "      <td>0.000000</td>\n",
       "      <td>0.192470</td>\n",
       "      <td>0.344632</td>\n",
       "      <td>0.0</td>\n",
       "      <td>0.0</td>\n",
       "    </tr>\n",
       "    <tr>\n",
       "      <th>0</th>\n",
       "      <td>W300T2RC</td>\n",
       "      <td>ST4000DM000</td>\n",
       "      <td>818.875000</td>\n",
       "      <td>116.450980</td>\n",
       "      <td>91.0</td>\n",
       "      <td>100.0</td>\n",
       "      <td>89.000000</td>\n",
       "      <td>100.000000</td>\n",
       "      <td>70.509804</td>\n",
       "      <td>34.000000</td>\n",
       "      <td>...</td>\n",
       "      <td>100.0</td>\n",
       "      <td>2.192217</td>\n",
       "      <td>0.0</td>\n",
       "      <td>0.0</td>\n",
       "      <td>0.0</td>\n",
       "      <td>0.000000</td>\n",
       "      <td>0.000000</td>\n",
       "      <td>0.488901</td>\n",
       "      <td>0.0</td>\n",
       "      <td>0.0</td>\n",
       "    </tr>\n",
       "    <tr>\n",
       "      <th>0</th>\n",
       "      <td>Z302A13D</td>\n",
       "      <td>ST4000DM000</td>\n",
       "      <td>447.291667</td>\n",
       "      <td>114.884615</td>\n",
       "      <td>97.0</td>\n",
       "      <td>100.0</td>\n",
       "      <td>85.173077</td>\n",
       "      <td>100.000000</td>\n",
       "      <td>77.557692</td>\n",
       "      <td>19.980769</td>\n",
       "      <td>...</td>\n",
       "      <td>100.0</td>\n",
       "      <td>0.760178</td>\n",
       "      <td>0.0</td>\n",
       "      <td>0.0</td>\n",
       "      <td>0.0</td>\n",
       "      <td>0.000000</td>\n",
       "      <td>0.000000</td>\n",
       "      <td>1.719790</td>\n",
       "      <td>0.0</td>\n",
       "      <td>0.0</td>\n",
       "    </tr>\n",
       "    <tr>\n",
       "      <th>0</th>\n",
       "      <td>JK11A8B9J90WMF</td>\n",
       "      <td>Hitachi HDS722020ALA330</td>\n",
       "      <td>1910.791667</td>\n",
       "      <td>100.000000</td>\n",
       "      <td>118.0</td>\n",
       "      <td>100.0</td>\n",
       "      <td>100.000000</td>\n",
       "      <td>99.961538</td>\n",
       "      <td>99.961538</td>\n",
       "      <td>146.961538</td>\n",
       "      <td>...</td>\n",
       "      <td>100.0</td>\n",
       "      <td>0.000000</td>\n",
       "      <td>0.0</td>\n",
       "      <td>0.0</td>\n",
       "      <td>0.0</td>\n",
       "      <td>-1.440165</td>\n",
       "      <td>-1.440165</td>\n",
       "      <td>2.910145</td>\n",
       "      <td>0.0</td>\n",
       "      <td>0.0</td>\n",
       "    </tr>\n",
       "  </tbody>\n",
       "</table>\n",
       "<p>205 rows × 21 columns</p>\n",
       "</div>"
      ],
      "text/plain": [
       "      serial_number                    model     time_day  \\\n",
       "0   WD-WCC4MKDL77ZK             WDC WD20EFRX   366.958333   \n",
       "0          Z300KHN0              ST4000DM000   801.916667   \n",
       "0          Z3015V4D              ST4000DM000   674.041667   \n",
       "0          W3006E5B              ST4000DM000   872.041667   \n",
       "0          S301146W              ST4000DM000   259.458333   \n",
       "..              ...                      ...          ...   \n",
       "0          W0Q6KWV8               ST320LT007  1244.333333   \n",
       "0          S300XP36              ST4000DM000   348.250000   \n",
       "0          W300T2RC              ST4000DM000   818.875000   \n",
       "0          Z302A13D              ST4000DM000   447.291667   \n",
       "0    JK11A8B9J90WMF  Hitachi HDS722020ALA330  1910.791667   \n",
       "\n",
       "    smart_1_normalized_mean  smart_3_normalized_mean  smart_5_normalized_mean  \\\n",
       "0                200.000000                    100.0                    200.0   \n",
       "0                110.000000                     91.0                    100.0   \n",
       "0                115.000000                     92.0                    100.0   \n",
       "0                117.000000                     91.0                    100.0   \n",
       "0                113.333333                     97.0                    100.0   \n",
       "..                      ...                      ...                      ...   \n",
       "0                114.627451                     98.0                     95.0   \n",
       "0                115.549020                     98.0                    100.0   \n",
       "0                116.450980                     91.0                    100.0   \n",
       "0                114.884615                     97.0                    100.0   \n",
       "0                100.000000                    118.0                    100.0   \n",
       "\n",
       "    smart_7_normalized_mean  smart_192_normalized_mean  \\\n",
       "0                100.000000                 200.000000   \n",
       "0                 85.000000                 100.000000   \n",
       "0                 77.000000                 100.000000   \n",
       "0                 87.000000                 100.000000   \n",
       "0                 84.000000                 100.000000   \n",
       "..                      ...                        ...   \n",
       "0                 81.000000                 100.000000   \n",
       "0                 84.000000                 100.000000   \n",
       "0                 89.000000                 100.000000   \n",
       "0                 85.173077                 100.000000   \n",
       "0                100.000000                  99.961538   \n",
       "\n",
       "    smart_193_normalized_mean  smart_194_normalized_mean  ...  \\\n",
       "0                  200.000000                 120.000000  ...   \n",
       "0                   93.000000                  24.000000  ...   \n",
       "0                   64.000000                  27.000000  ...   \n",
       "0                   63.000000                  22.000000  ...   \n",
       "0                   91.000000                  21.000000  ...   \n",
       "..                        ...                        ...  ...   \n",
       "0                   27.372549                  25.745098  ...   \n",
       "0                   82.921569                  22.294118  ...   \n",
       "0                   70.509804                  34.000000  ...   \n",
       "0                   77.557692                  19.980769  ...   \n",
       "0                   99.961538                 146.961538  ...   \n",
       "\n",
       "    smart_198_normalized_mean  smart_1_normalized_delta_skew  \\\n",
       "0                       100.0                            NaN   \n",
       "0                       100.0                            NaN   \n",
       "0                       100.0                            NaN   \n",
       "0                       100.0                            NaN   \n",
       "0                        81.0                            NaN   \n",
       "..                        ...                            ...   \n",
       "0                       100.0                      -0.405724   \n",
       "0                       100.0                      -0.602388   \n",
       "0                       100.0                       2.192217   \n",
       "0                       100.0                       0.760178   \n",
       "0                       100.0                       0.000000   \n",
       "\n",
       "    smart_3_normalized_delta_skew  smart_5_normalized_delta_skew  \\\n",
       "0                             NaN                            NaN   \n",
       "0                             NaN                            NaN   \n",
       "0                             NaN                            NaN   \n",
       "0                             NaN                            NaN   \n",
       "0                             NaN                            NaN   \n",
       "..                            ...                            ...   \n",
       "0                             0.0                            0.0   \n",
       "0                             0.0                            0.0   \n",
       "0                             0.0                            0.0   \n",
       "0                             0.0                            0.0   \n",
       "0                             0.0                            0.0   \n",
       "\n",
       "    smart_7_normalized_delta_skew  smart_192_normalized_delta_skew  \\\n",
       "0                             NaN                              NaN   \n",
       "0                             NaN                              NaN   \n",
       "0                             NaN                              NaN   \n",
       "0                             NaN                              NaN   \n",
       "0                             NaN                              NaN   \n",
       "..                            ...                              ...   \n",
       "0                             0.0                         0.000000   \n",
       "0                             0.0                         0.000000   \n",
       "0                             0.0                         0.000000   \n",
       "0                             0.0                         0.000000   \n",
       "0                             0.0                        -1.440165   \n",
       "\n",
       "    smart_193_normalized_delta_skew  smart_194_normalized_delta_skew  \\\n",
       "0                               NaN                              NaN   \n",
       "0                               NaN                              NaN   \n",
       "0                               NaN                              NaN   \n",
       "0                               NaN                              NaN   \n",
       "0                               NaN                              NaN   \n",
       "..                              ...                              ...   \n",
       "0                          0.000000                         0.048239   \n",
       "0                          0.192470                         0.344632   \n",
       "0                          0.000000                         0.488901   \n",
       "0                          0.000000                         1.719790   \n",
       "0                         -1.440165                         2.910145   \n",
       "\n",
       "    smart_197_normalized_delta_skew  smart_198_normalized_delta_skew  \n",
       "0                               NaN                              NaN  \n",
       "0                               NaN                              NaN  \n",
       "0                               NaN                              NaN  \n",
       "0                               NaN                              NaN  \n",
       "0                               NaN                              NaN  \n",
       "..                              ...                              ...  \n",
       "0                               0.0                              0.0  \n",
       "0                               0.0                              0.0  \n",
       "0                               0.0                              0.0  \n",
       "0                               0.0                              0.0  \n",
       "0                               0.0                              0.0  \n",
       "\n",
       "[205 rows x 21 columns]"
      ]
     },
     "execution_count": 105,
     "metadata": {},
     "output_type": "execute_result"
    }
   ],
   "source": [
    "df_last_weak    = df[df.vida_util_restante_int<=7].copy()\n",
    "df_last_2_weaks = df[df.vida_util_restante_int<=21].copy()\n",
    "df_last_2_weaks = df_last_2_weaks[df_last_2_weaks.vida_util_restante_int>7]\n",
    "\n",
    "lista=list(df.loc[df.failure==1][\"serial_number\"].values)\n",
    "modelo=list(df.loc[df.failure==1][\"model\"].values)\n",
    "tiempo_vida=list(df.loc[df.failure==1][\"time_day\"].values)\n",
    "\n",
    "indices = list(df.loc[df.serial_number==lista[50]].mean().index)\n",
    "indices = indices[2:6]+indices[7:12]\n",
    "mean_indices = [i+'_mean' for i in indices]\n",
    "skew_indices = [i+'_delta_skew' for i in indices]\n",
    "indices = ['serial_number',\"model\",\"time_day\"] + mean_indices + skew_indices\n",
    "\n",
    "final_data = pd.DataFrame(columns=indices)\n",
    "\n",
    "for i in range(len(lista)):\n",
    "    aux=[]\n",
    "    temp=[]\n",
    "    aux=list(df.loc[df.serial_number==lista[i]].mean().values)\n",
    "    \n",
    "    aux_2=list(df_last_weak.loc[df_last_weak.serial_number==lista[i]].skew().values)\n",
    "    aux_3=list(df_last_2_weaks.loc[df_last_2_weaks.serial_number==lista[i]].skew().values)\n",
    "    \n",
    "    delta_skew=[aux_2[i]-aux_3[i] for i in range(len(aux_2))]\n",
    "    #print(aux)\n",
    "    temp=[lista[i],modelo[i],tiempo_vida[i]]+aux[2:6]+aux[7:12]+delta_skew[2:6]+delta_skew[7:12]\n",
    "    temp_2=temp.copy()\n",
    "    #print(temp)\n",
    "    df2 = pd.DataFrame([temp_2], columns=indices)\n",
    "    #print(df2)\n",
    "    final_data=final_data.append(df2)\n",
    "final_data"
   ]
  },
  {
   "cell_type": "code",
   "execution_count": 78,
   "metadata": {},
   "outputs": [
    {
     "name": "stderr",
     "output_type": "stream",
     "text": [
      "/Users/matiaslopezportius/opt/anaconda3/envs/Machine_Learning/lib/python3.7/site-packages/ipykernel_launcher.py:5: FutureWarning: DataFrame.mean and DataFrame.median with numeric_only=None will include datetime64 and datetime64tz columns in a future version.\n"
     ]
    },
    {
     "data": {
      "text/html": [
       "<div>\n",
       "<style scoped>\n",
       "    .dataframe tbody tr th:only-of-type {\n",
       "        vertical-align: middle;\n",
       "    }\n",
       "\n",
       "    .dataframe tbody tr th {\n",
       "        vertical-align: top;\n",
       "    }\n",
       "\n",
       "    .dataframe thead th {\n",
       "        text-align: right;\n",
       "    }\n",
       "</style>\n",
       "<table border=\"1\" class=\"dataframe\">\n",
       "  <thead>\n",
       "    <tr style=\"text-align: right;\">\n",
       "      <th></th>\n",
       "      <th>serial_number</th>\n",
       "      <th>smart_1_normalized</th>\n",
       "      <th>smart_3_normalized</th>\n",
       "      <th>smart_5_normalized</th>\n",
       "      <th>smart_7_normalized</th>\n",
       "      <th>smart_192_normalized</th>\n",
       "      <th>smart_193_normalized</th>\n",
       "      <th>smart_194_normalized</th>\n",
       "      <th>smart_197_normalized</th>\n",
       "      <th>smart_198_normalized</th>\n",
       "    </tr>\n",
       "  </thead>\n",
       "  <tbody>\n",
       "    <tr>\n",
       "      <th>0</th>\n",
       "      <td>WD-WCC4MKDL77ZK</td>\n",
       "      <td>200.000000</td>\n",
       "      <td>100.0</td>\n",
       "      <td>200.0</td>\n",
       "      <td>100.000000</td>\n",
       "      <td>200.000000</td>\n",
       "      <td>200.000000</td>\n",
       "      <td>120.000000</td>\n",
       "      <td>200.0</td>\n",
       "      <td>100.0</td>\n",
       "    </tr>\n",
       "    <tr>\n",
       "      <th>0</th>\n",
       "      <td>Z300KHN0</td>\n",
       "      <td>110.000000</td>\n",
       "      <td>91.0</td>\n",
       "      <td>100.0</td>\n",
       "      <td>85.000000</td>\n",
       "      <td>100.000000</td>\n",
       "      <td>93.000000</td>\n",
       "      <td>24.000000</td>\n",
       "      <td>100.0</td>\n",
       "      <td>100.0</td>\n",
       "    </tr>\n",
       "    <tr>\n",
       "      <th>0</th>\n",
       "      <td>Z3015V4D</td>\n",
       "      <td>115.000000</td>\n",
       "      <td>92.0</td>\n",
       "      <td>100.0</td>\n",
       "      <td>77.000000</td>\n",
       "      <td>100.000000</td>\n",
       "      <td>64.000000</td>\n",
       "      <td>27.000000</td>\n",
       "      <td>100.0</td>\n",
       "      <td>100.0</td>\n",
       "    </tr>\n",
       "    <tr>\n",
       "      <th>0</th>\n",
       "      <td>W3006E5B</td>\n",
       "      <td>117.000000</td>\n",
       "      <td>91.0</td>\n",
       "      <td>100.0</td>\n",
       "      <td>87.000000</td>\n",
       "      <td>100.000000</td>\n",
       "      <td>63.000000</td>\n",
       "      <td>22.000000</td>\n",
       "      <td>100.0</td>\n",
       "      <td>100.0</td>\n",
       "    </tr>\n",
       "    <tr>\n",
       "      <th>0</th>\n",
       "      <td>S301146W</td>\n",
       "      <td>113.333333</td>\n",
       "      <td>97.0</td>\n",
       "      <td>100.0</td>\n",
       "      <td>84.000000</td>\n",
       "      <td>100.000000</td>\n",
       "      <td>91.000000</td>\n",
       "      <td>21.000000</td>\n",
       "      <td>81.0</td>\n",
       "      <td>81.0</td>\n",
       "    </tr>\n",
       "    <tr>\n",
       "      <th>...</th>\n",
       "      <td>...</td>\n",
       "      <td>...</td>\n",
       "      <td>...</td>\n",
       "      <td>...</td>\n",
       "      <td>...</td>\n",
       "      <td>...</td>\n",
       "      <td>...</td>\n",
       "      <td>...</td>\n",
       "      <td>...</td>\n",
       "      <td>...</td>\n",
       "    </tr>\n",
       "    <tr>\n",
       "      <th>0</th>\n",
       "      <td>W0Q6KWV8</td>\n",
       "      <td>114.627451</td>\n",
       "      <td>98.0</td>\n",
       "      <td>95.0</td>\n",
       "      <td>81.000000</td>\n",
       "      <td>100.000000</td>\n",
       "      <td>27.372549</td>\n",
       "      <td>25.745098</td>\n",
       "      <td>100.0</td>\n",
       "      <td>100.0</td>\n",
       "    </tr>\n",
       "    <tr>\n",
       "      <th>0</th>\n",
       "      <td>S300XP36</td>\n",
       "      <td>115.549020</td>\n",
       "      <td>98.0</td>\n",
       "      <td>100.0</td>\n",
       "      <td>84.000000</td>\n",
       "      <td>100.000000</td>\n",
       "      <td>82.921569</td>\n",
       "      <td>22.294118</td>\n",
       "      <td>100.0</td>\n",
       "      <td>100.0</td>\n",
       "    </tr>\n",
       "    <tr>\n",
       "      <th>0</th>\n",
       "      <td>W300T2RC</td>\n",
       "      <td>116.450980</td>\n",
       "      <td>91.0</td>\n",
       "      <td>100.0</td>\n",
       "      <td>89.000000</td>\n",
       "      <td>100.000000</td>\n",
       "      <td>70.509804</td>\n",
       "      <td>34.000000</td>\n",
       "      <td>100.0</td>\n",
       "      <td>100.0</td>\n",
       "    </tr>\n",
       "    <tr>\n",
       "      <th>0</th>\n",
       "      <td>Z302A13D</td>\n",
       "      <td>114.884615</td>\n",
       "      <td>97.0</td>\n",
       "      <td>100.0</td>\n",
       "      <td>85.173077</td>\n",
       "      <td>100.000000</td>\n",
       "      <td>77.557692</td>\n",
       "      <td>19.980769</td>\n",
       "      <td>100.0</td>\n",
       "      <td>100.0</td>\n",
       "    </tr>\n",
       "    <tr>\n",
       "      <th>0</th>\n",
       "      <td>JK11A8B9J90WMF</td>\n",
       "      <td>100.000000</td>\n",
       "      <td>118.0</td>\n",
       "      <td>100.0</td>\n",
       "      <td>100.000000</td>\n",
       "      <td>99.961538</td>\n",
       "      <td>99.961538</td>\n",
       "      <td>146.961538</td>\n",
       "      <td>100.0</td>\n",
       "      <td>100.0</td>\n",
       "    </tr>\n",
       "  </tbody>\n",
       "</table>\n",
       "<p>205 rows × 10 columns</p>\n",
       "</div>"
      ],
      "text/plain": [
       "      serial_number  smart_1_normalized  smart_3_normalized  \\\n",
       "0   WD-WCC4MKDL77ZK          200.000000               100.0   \n",
       "0          Z300KHN0          110.000000                91.0   \n",
       "0          Z3015V4D          115.000000                92.0   \n",
       "0          W3006E5B          117.000000                91.0   \n",
       "0          S301146W          113.333333                97.0   \n",
       "..              ...                 ...                 ...   \n",
       "0          W0Q6KWV8          114.627451                98.0   \n",
       "0          S300XP36          115.549020                98.0   \n",
       "0          W300T2RC          116.450980                91.0   \n",
       "0          Z302A13D          114.884615                97.0   \n",
       "0    JK11A8B9J90WMF          100.000000               118.0   \n",
       "\n",
       "    smart_5_normalized  smart_7_normalized  smart_192_normalized  \\\n",
       "0                200.0          100.000000            200.000000   \n",
       "0                100.0           85.000000            100.000000   \n",
       "0                100.0           77.000000            100.000000   \n",
       "0                100.0           87.000000            100.000000   \n",
       "0                100.0           84.000000            100.000000   \n",
       "..                 ...                 ...                   ...   \n",
       "0                 95.0           81.000000            100.000000   \n",
       "0                100.0           84.000000            100.000000   \n",
       "0                100.0           89.000000            100.000000   \n",
       "0                100.0           85.173077            100.000000   \n",
       "0                100.0          100.000000             99.961538   \n",
       "\n",
       "    smart_193_normalized  smart_194_normalized  smart_197_normalized  \\\n",
       "0             200.000000            120.000000                 200.0   \n",
       "0              93.000000             24.000000                 100.0   \n",
       "0              64.000000             27.000000                 100.0   \n",
       "0              63.000000             22.000000                 100.0   \n",
       "0              91.000000             21.000000                  81.0   \n",
       "..                   ...                   ...                   ...   \n",
       "0              27.372549             25.745098                 100.0   \n",
       "0              82.921569             22.294118                 100.0   \n",
       "0              70.509804             34.000000                 100.0   \n",
       "0              77.557692             19.980769                 100.0   \n",
       "0              99.961538            146.961538                 100.0   \n",
       "\n",
       "    smart_198_normalized  \n",
       "0                  100.0  \n",
       "0                  100.0  \n",
       "0                  100.0  \n",
       "0                  100.0  \n",
       "0                   81.0  \n",
       "..                   ...  \n",
       "0                  100.0  \n",
       "0                  100.0  \n",
       "0                  100.0  \n",
       "0                  100.0  \n",
       "0                  100.0  \n",
       "\n",
       "[205 rows x 10 columns]"
      ]
     },
     "execution_count": 78,
     "metadata": {},
     "output_type": "execute_result"
    }
   ],
   "source": [
    "final_data = pd.DataFrame(columns=indices)\n",
    "for i in lista:\n",
    "    aux=[]\n",
    "    temp=[]\n",
    "    aux=list(df.loc[df.serial_number==i].mean().values)\n",
    "    #print(aux)\n",
    "    temp=[i]+aux[2:6]+aux[7:12]\n",
    "    temp_2=temp.copy()\n",
    "    #print(temp)\n",
    "    df2 = pd.DataFrame([temp_2], columns=indices)\n",
    "    #print(df2)\n",
    "    final_data=final_data.append(df2)\n",
    "final_data"
   ]
  },
  {
   "cell_type": "code",
   "execution_count": 107,
   "metadata": {},
   "outputs": [],
   "source": [
    "final_data.to_csv(\"data_smart_mean_delta_skew.csv\", index = False, sep=',', encoding='utf-8')"
   ]
  },
  {
   "cell_type": "markdown",
   "metadata": {},
   "source": [
    "# Generar variables dummy para model "
   ]
  },
  {
   "cell_type": "code",
   "execution_count": null,
   "metadata": {},
   "outputs": [],
   "source": [
    "df.dtypes\n",
    "df=pd.get_dummies(data, drop_first=True)\n",
    "df.head()"
   ]
  }
 ],
 "metadata": {
  "kernelspec": {
   "display_name": "Python 3",
   "language": "python",
   "name": "python3"
  },
  "language_info": {
   "codemirror_mode": {
    "name": "ipython",
    "version": 3
   },
   "file_extension": ".py",
   "mimetype": "text/x-python",
   "name": "python",
   "nbconvert_exporter": "python",
   "pygments_lexer": "ipython3",
   "version": "3.7.7"
  }
 },
 "nbformat": 4,
 "nbformat_minor": 4
}
